{
  "nbformat": 4,
  "nbformat_minor": 0,
  "metadata": {
    "colab": {
      "provenance": [],
      "authorship_tag": "ABX9TyMAj5Cbn5vlVVhisILX+kbV",
      "include_colab_link": true
    },
    "kernelspec": {
      "name": "python3",
      "display_name": "Python 3"
    },
    "language_info": {
      "name": "python"
    }
  },
  "cells": [
    {
      "cell_type": "markdown",
      "metadata": {
        "id": "view-in-github",
        "colab_type": "text"
      },
      "source": [
        "<a href=\"https://colab.research.google.com/github/Mailyn0328/valores.csv/blob/main/Tabla_de_valores.ipynb\" target=\"_parent\"><img src=\"https://colab.research.google.com/assets/colab-badge.svg\" alt=\"Open In Colab\"/></a>"
      ]
    },
    {
      "cell_type": "code",
      "execution_count": 1,
      "metadata": {
        "id": "eHqnmVp04qBn"
      },
      "outputs": [],
      "source": [
        "import csv"
      ]
    },
    {
      "cell_type": "code",
      "source": [
        "valores= [(2, 4), (6, 8), (10, 12), (14, 16), (18, 20)]\n",
        "\n",
        "ruta_csv = \"valores.csv\"\n",
        "\n",
        "with open(ruta_csv, 'w', newline='') as archivo_csv:\n",
        "    writer = csv.writer(archivo_csv)\n",
        "    writer.writerow(['x', 'y'])\n",
        "    writer.writerows(valores)"
      ],
      "metadata": {
        "id": "w8rnYQZJ52ae"
      },
      "execution_count": 3,
      "outputs": []
    }
  ]
}